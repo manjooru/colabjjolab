{
  "nbformat": 4,
  "nbformat_minor": 0,
  "metadata": {
    "colab": {
      "name": "4주차 과제.ipynb",
      "provenance": [],
      "authorship_tag": "ABX9TyNTAU/85pEbXKkwbADPaRga",
      "include_colab_link": true
    },
    "kernelspec": {
      "name": "python3",
      "display_name": "Python 3"
    },
    "language_info": {
      "name": "python"
    }
  },
  "cells": [
    {
      "cell_type": "markdown",
      "metadata": {
        "id": "view-in-github",
        "colab_type": "text"
      },
      "source": [
        "<a href=\"https://colab.research.google.com/github/manjooru/luckyy/blob/main/4%EC%A3%BC%EC%B0%A8_%EA%B3%BC%EC%A0%9C.ipynb\" target=\"_parent\"><img src=\"https://colab.research.google.com/assets/colab-badge.svg\" alt=\"Open In Colab\"/></a>"
      ]
    },
    {
      "cell_type": "code",
      "execution_count": null,
      "metadata": {
        "colab": {
          "base_uri": "https://localhost:8080/",
          "height": 279
        },
        "id": "n_eTr-HTp3l5",
        "outputId": "e6f512a4-d255-4e10-dbb9-88e720de51f6"
      },
      "outputs": [
        {
          "output_type": "display_data",
          "data": {
            "text/plain": [
              "<Figure size 432x288 with 1 Axes>"
            ],
            "image/png": "[encoded data removed]"
          },
          "metadata": {
            "needs_background": "light"
          }
        }
      ],
      "source": [
        "# 서울과 강원도의 인구 연령 별 분포도 비교하기\n",
        "# 지방의 고령화가 심각해지고 있다고 하는데 얼마나 차이가 나는지 궁금하다.\n",
        "\n",
        "import csv\n",
        "data = csv.reader(open('age2022.csv'))\n",
        "\n",
        "x1 = []\n",
        "x2 = []\n",
        "\n",
        "for row in data : \n",
        "  if '서울' in row[0] :\n",
        "    for i in range(3, 104) :\n",
        "      x1.append(int(row[i]))\n",
        "    break\n",
        "\n",
        "for row in data :\n",
        "  if '강원' in row[0] :\n",
        "    for i in range(3,104) :\n",
        "      x2.append(int(row[i]))\n",
        "    break\n",
        "\n",
        "import matplotlib.pyplot as plt\n",
        "plt.title('강원도와 서울의 인구 연령 별 분포도')\n",
        "plt.plot(x1, c = 'pink', label = '서울')\n",
        "plt.plot(x2, c = 'orange', label = '강원')\n",
        "plt.legend()\n",
        "plt.show()"
      ]
    },
    {
      "cell_type": "code",
      "source": [
        "#알게 된 점\n",
        "#연령층이 어릴 수록 인구차이가 많이 나며 연령이 높아질 수록 인구차이가 줄어든다. "
      ],
      "metadata": {
        "id": "5By3L_CHruWZ"
      },
      "execution_count": null,
      "outputs": []
    },
    {
      "cell_type": "code",
      "source": [],
      "metadata": {
        "id": "Z4Xr_soBsJ7n"
      },
      "execution_count": null,
      "outputs": []
    },
    {
      "cell_type": "code",
      "source": [
        "!apt-get install fonts-nanum -qq > /dev/null   #폰트설치\n",
        "!fc-cache -fv\n",
        "import matplotlib as mpl\n",
        "mpl.font_manager._rebuild()\n",
        "findfont = mpl.font_manager.fontManager.findfont\n",
        "mpl.font_manager.findfont = findfont\n",
        "mpl.backends.backend_agg.findfont = findfont"
      ],
      "metadata": {
        "colab": {
          "base_uri": "https://localhost:8080/"
        },
        "id": "qSVtoIUmPhUv",
        "outputId": "f1e6dd94-adf7-40a7-9a7c-4391ba8f8aeb"
      },
      "execution_count": null,
      "outputs": [
        {
          "output_type": "stream",
          "name": "stdout",
          "text": [
            "/usr/share/fonts: caching, new cache contents: 0 fonts, 1 dirs\n",
            "/usr/share/fonts/truetype: caching, new cache contents: 0 fonts, 3 dirs\n",
            "/usr/share/fonts/truetype/humor-sans: caching, new cache contents: 1 fonts, 0 dirs\n",
            "/usr/share/fonts/truetype/liberation: caching, new cache contents: 16 fonts, 0 dirs\n",
            "/usr/share/fonts/truetype/nanum: caching, new cache contents: 10 fonts, 0 dirs\n",
            "/usr/local/share/fonts: caching, new cache contents: 0 fonts, 0 dirs\n",
            "/root/.local/share/fonts: skipping, no such directory\n",
            "/root/.fonts: skipping, no such directory\n",
            "/var/cache/fontconfig: cleaning cache directory\n",
            "/root/.cache/fontconfig: not cleaning non-existent cache directory\n",
            "/root/.fontconfig: not cleaning non-existent cache directory\n",
            "fc-cache: succeeded\n"
          ]
        }
      ]
    },
    {
      "cell_type": "code",
      "source": [],
      "metadata": {
        "id": "WJ1-r44PsEZR"
      },
      "execution_count": null,
      "outputs": []
    },
    {
      "cell_type": "code",
      "source": [],
      "metadata": {
        "id": "jY0mIR2gsEzR"
      },
      "execution_count": null,
      "outputs": []
    }
  ]
}