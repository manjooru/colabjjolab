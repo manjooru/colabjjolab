{
  "nbformat": 4,
  "nbformat_minor": 0,
  "metadata": {
    "colab": {
      "name": "3주차 과제.ipynb",
      "provenance": [],
      "authorship_tag": "ABX9TyM8vLX8ZwcD/+YcJCyelcpc",
      "include_colab_link": true
    },
    "kernelspec": {
      "name": "python3",
      "display_name": "Python 3"
    },
    "language_info": {
      "name": "python"
    }
  },
  "cells": [
    {
      "cell_type": "markdown",
      "metadata": {
        "id": "view-in-github",
        "colab_type": "text"
      },
      "source": [
        "<a href=\"https://colab.research.google.com/github/manjooru/colabjjolab/blob/main/3%EC%A3%BC%EC%B0%A8_%EA%B3%BC%EC%A0%9C.ipynb\" target=\"_parent\"><img src=\"https://colab.research.google.com/assets/colab-badge.svg\" alt=\"Open In Colab\"/></a>"
      ]
    },
    {
      "cell_type": "markdown",
      "source": [
        "내가 태어난 이후(1994.11.13) 내 생일날의 전국 강수량 그래프"
      ],
      "metadata": {
        "id": "A7HWBdOMHcTs"
      }
    },
    {
      "cell_type": "code",
      "execution_count": null,
      "metadata": {
        "colab": {
          "base_uri": "https://localhost:8080/",
          "height": 283
        },
        "id": "v3gq5zNgB4nb",
        "outputId": "11f48fe4-9260-4171-c59c-f5dd12ff00b0"
      },
      "outputs": [
        {
          "output_type": "stream",
          "name": "stdout",
          "text": [
            "[0.9, 3.0, 0.4, 0.4, 0.0, 0.0, 0.0, 0.1, 0.1, 0.7, 0.6, 0.0, 0.5, 0.0, 0.0, 5.4, 0.0, 0.0, 3.1, 0.0, 0.1, 24.4, 3.0, 0.4, 0.4, 2.7, 0.0, 0.0]\n"
          ]
        },
        {
          "output_type": "display_data",
          "data": {
            "text/plain": [
              "<Figure size 432x288 with 1 Axes>"
            ],
            "image/png": "[encoded data removed]"
          },
          "metadata": {
            "needs_background": "light"
          }
        }
      ],
      "source": [
        "# 내 생일날의 전국강수량 그래프\n",
        "import csv\n",
        "data = csv.reader(open('rain.csv'))\n",
        "next(data)\n",
        "x = []\n",
        "for row in data :\n",
        "  if row[-1] != '' :\n",
        "    if '-11-13' in row[0] :\n",
        "      x.append(float(row[2]))\n",
        "print(x)\n",
        "\n",
        "import matplotlib.pyplot as plt\n",
        "plt.plot(x)\n",
        "plt.show()"
      ]
    },
    {
      "cell_type": "code",
      "source": [],
      "metadata": {
        "id": "MYCC9ZWFF28O"
      },
      "execution_count": null,
      "outputs": []
    }
  ]
}