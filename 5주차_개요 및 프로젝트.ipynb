{
  "cells": [
    {
      "cell_type": "markdown",
      "metadata": {
        "id": "view-in-github",
        "colab_type": "text"
      },
      "source": [
        "<a href=\"https://colab.research.google.com/github/manjooru/colabjjolab/blob/main/5%EC%A3%BC%EC%B0%A8_%EA%B0%9C%EC%9A%94%20%EB%B0%8F%20%ED%94%84%EB%A1%9C%EC%A0%9D%ED%8A%B8.ipynb\" target=\"_parent\"><img src=\"https://colab.research.google.com/assets/colab-badge.svg\" alt=\"Open In Colab\"/></a>"
      ]
    },
    {
      "cell_type": "code",
      "execution_count": null,
      "metadata": {
        "colab": {
          "base_uri": "https://localhost:8080/"
        },
        "id": "PDZMdixh6L0_",
        "outputId": "65184e20-49e3-470d-e487-4131930330de"
      },
      "outputs": [
        {
          "output_type": "stream",
          "name": "stdout",
          "text": [
            "이름을 입력해주세요 : 이민지\n",
            "이민지님 다음의 질문에 답해주세요.\n",
            "문제를 읽고 수학여행에 어울리는 행동을 골라주세요. 하나라도 틀리면 수학여행에 참여하지 못합니다.\n",
            "1.용돈관리   1)용돈을 많이 달라고 졸라서 잔뜩 가져온 뒤 다 잃어버린다.  2) 많이 받아서 이것저것 불필요한 기념품을 사고 몇일 뒤 쓰레기로 만든다. 3) 꼭 필요한 곳에 알뜰하게 아껴쓴다.3\n",
            "2.버스예절  1) 안전벨트를 잘 매고 바르게 앉아있는다.  2) 지나치게 시끄럽게 떠들어서 운전기사님의 심기를 건든다.  3) 몰래 핸드폰 게임을 하며 친구들과 킥킥댄다.3\n",
            "당신은 수학여행에 가지 못합니다. 다시 도전하세요.\n",
            "2.버스예절  1) 안전벨트를 잘 매고 바르게 앉아있는다.  2) 지나치게 시끄럽게 떠들어서 운전기사님의 심기를 건든다.  3) 몰래 핸드폰 게임을 하며 친구들과 킥킥댄다.1\n",
            "3. 숙소예절  1) 다른 방에 자기 마음대로 들어갔다가 도둑으로 오해받는다.  2) 밤새 자지 않고 놀다가 견학 가서는 잠만 잔다.  3) 친구들과 다투지 않고 즐겁게 지낸다. 3\n",
            "이민지시험에 통과한 걸 축하합니다! 안전하고 즐겁게 수학여행 다녀옵시다 ^^\n"
          ]
        }
      ],
      "source": [
        "#수학여행 안전퀴즈\n",
        "#1)이름 입력하기 \n",
        "#2)퀴즈 내고 맞는지 점검하기(틀리면 틀렸다고 말해주기)\n",
        "#3)모두 맞는 경우 수학여행 가능, 하나라도 n인 경우 수학여행 불가\n",
        "\n",
        "#다 끝나고 다시 2번문제가 나오는데 어떻게 해결해야할지 궁금해요.\n",
        "\n",
        "import time\n",
        "\n",
        "name=input('이름을 입력해주세요 : ')\n",
        "print(name+'님 다음의 질문에 답해주세요.')\n",
        "\n",
        "time.sleep(1)\n",
        "\n",
        "while True :\n",
        "  print('문제를 읽고 수학여행에 어울리는 행동을 골라주세요. 하나라도 틀리면 수학여행에 참여하지 못합니다.')\n",
        "  input_q1 = input('1.용돈관리   1)용돈을 많이 달라고 졸라서 잔뜩 가져온 뒤 다 잃어버린다.  2) 많이 받아서 이것저것 불필요한 기념품을 사고 몇일 뒤 쓰레기로 만든다. 3) 꼭 필요한 곳에 알뜰하게 아껴쓴다.')\n",
        "  if input_q1 == '1' :\n",
        "    print('당신은 수학여행에 가지 못합니다. 다시 도전하세요.')\n",
        "\n",
        "  if input_q1 == '2' :\n",
        "     print('당신은 수학여행에 가지 못합니다. 다시 도전하세요.')\n",
        "    \n",
        "  if input_q1 == '3' :\n",
        "    time. sleep(1)\n",
        "    while True :\n",
        "      input_q2 = input('2.버스예절  1) 안전벨트를 잘 매고 바르게 앉아있는다.  2) 지나치게 시끄럽게 떠들어서 운전기사님의 심기를 건든다.  3) 몰래 핸드폰 게임을 하며 친구들과 킥킥댄다.')\n",
        "      if input_q2 == '2' :\n",
        "        print('당신은 수학여행에 가지 못합니다. 다시 도전하세요.')\n",
        "\n",
        "      if input_q2 == '3' : \n",
        "        print('당신은 수학여행에 가지 못합니다. 다시 도전하세요.')\n",
        "\n",
        "      if input_q2 == '1' :\n",
        "        time. sleep(1)\n",
        "        while True :\n",
        "          input_q3 = input('3. 숙소예절  1) 다른 방에 자기 마음대로 들어갔다가 도둑으로 오해받는다.  2) 밤새 자지 않고 놀다가 견학 가서는 잠만 잔다.  3) 친구들과 다투지 않고 즐겁게 지낸다. ')\n",
        "          if input_q3 == '1' :\n",
        "            print('당신은 수학여행에 가지 못합니다. 다시 도전하세요.')\n",
        "        \n",
        "          elif input_q3 == '2' :\n",
        "            print('당신은 수학여행에 가지 못합니다. 다시 도전하세요.')\n",
        "\n",
        "          elif input_q3 == '3' :\n",
        "            time. sleep(1)\n",
        "            print(name+'시험에 통과한 걸 축하합니다! 안전하고 즐겁게 수학여행 다녀옵시다 ^^')\n",
        "            break\n",
        "          \n",
        "       "
      ]
    },
    {
      "cell_type": "code",
      "execution_count": null,
      "metadata": {
        "id": "CVpe8ifzRO9j"
      },
      "outputs": [],
      "source": [
        "\n"
      ]
    },
    {
      "cell_type": "code",
      "execution_count": null,
      "metadata": {
        "id": "U48dtzV0YXfL"
      },
      "outputs": [],
      "source": []
    }
  ],
  "metadata": {
    "colab": {
      "name": "5주차 개요.ipynb",
      "provenance": [],
      "authorship_tag": "ABX9TyOEw+v9kRv3BxrNxRAtiP88",
      "include_colab_link": true
    },
    "kernelspec": {
      "display_name": "Python 3",
      "name": "python3"
    },
    "language_info": {
      "name": "python"
    }
  },
  "nbformat": 4,
  "nbformat_minor": 0
}