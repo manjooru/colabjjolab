{
  "nbformat": 4,
  "nbformat_minor": 0,
  "metadata": {
    "colab": {
      "name": "2주차 과제.ipynb",
      "provenance": [],
      "authorship_tag": "ABX9TyN+A9cNO2IntiPKn1Xm3diV",
      "include_colab_link": true
    },
    "kernelspec": {
      "name": "python3",
      "display_name": "Python 3"
    },
    "language_info": {
      "name": "python"
    }
  },
  "cells": [
    {
      "cell_type": "markdown",
      "metadata": {
        "id": "view-in-github",
        "colab_type": "text"
      },
      "source": [
        "<a href=\"https://colab.research.google.com/github/manjooru/colabjjolab/blob/main/2%EC%A3%BC%EC%B0%A8_%EA%B3%BC%EC%A0%9C.ipynb\" target=\"_parent\"><img src=\"https://colab.research.google.com/assets/colab-badge.svg\" alt=\"Open In Colab\"/></a>"
      ]
    },
    {
      "cell_type": "code",
      "execution_count": null,
      "metadata": {
        "colab": {
          "base_uri": "https://localhost:8080/"
        },
        "id": "0ujsPZPJaxoa",
        "outputId": "95205da4-df5e-405c-bfa2-4be86f1de99f"
      },
      "outputs": [
        {
          "output_type": "stream",
          "name": "stdout",
          "text": [
            "오늘 포츈쿠키를 뽑을 사람은\n",
            "김혜수\n",
            "\n",
            "후회하지 말고 앞으로 나아가자\n",
            "\n"
          ]
        }
      ],
      "source": [
        "import time\n",
        "import random\n",
        "\n",
        "data_names = open('우리반명단.txt')\n",
        "data_virtues = open('행운글귀.txt') \n",
        "names = []\n",
        "for row in data_names :\n",
        "  names.append(row)\n",
        "\n",
        "virtues = []\n",
        "for row in data_virtues :\n",
        "  virtues.append(row)\n",
        "\n",
        "print('오늘 포츈쿠키를 뽑을 사람은')\n",
        "\n",
        "time.sleep(2)\n",
        "\n",
        "print(random.choice(names))\n",
        "\n",
        "time.sleep(2)\n",
        "\n",
        "\n",
        "print(random.choice(virtues))"
      ]
    },
    {
      "cell_type": "code",
      "source": [],
      "metadata": {
        "id": "E3WZHxb0dN-u"
      },
      "execution_count": null,
      "outputs": []
    }
  ]
}