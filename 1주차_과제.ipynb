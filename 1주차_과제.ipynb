{
  "nbformat": 4,
  "nbformat_minor": 0,
  "metadata": {
    "colab": {
      "name": "1주차 과제.ipynb",
      "provenance": [],
      "authorship_tag": "ABX9TyMbkmb77PBEJZB0BXquVQgM",
      "include_colab_link": true
    },
    "kernelspec": {
      "name": "python3",
      "display_name": "Python 3"
    },
    "language_info": {
      "name": "python"
    }
  },
  "cells": [
    {
      "cell_type": "markdown",
      "metadata": {
        "id": "view-in-github",
        "colab_type": "text"
      },
      "source": [
        "<a href=\"https://colab.research.google.com/github/manjooru/luckyy/blob/main/1%EC%A3%BC%EC%B0%A8_%EA%B3%BC%EC%A0%9C.ipynb\" target=\"_parent\"><img src=\"https://colab.research.google.com/assets/colab-badge.svg\" alt=\"Open In Colab\"/></a>"
      ]
    },
    {
      "cell_type": "code",
      "execution_count": null,
      "metadata": {
        "colab": {
          "base_uri": "https://localhost:8080/"
        },
        "id": "CVpe8ifzRO9j",
        "outputId": "722a685f-72ca-48b2-aba6-79fccb224160"
      },
      "outputs": [
        {
          "output_type": "stream",
          "name": "stdout",
          "text": [
            "코로나 19 자가진단을 실시해주세요\n",
            "비밀번호를 입력해주세요 : 1234\n",
            "로그인에 성공하였습니다.\n",
            "문장을 읽고 해당되면 Y, 아니라면 N으로 응답해주세요.\n",
            "1. 귀하는 현재 코로나19가 의심되는 발열, 기침 등의 임상증상이 있나요? : N\n",
            "2. 귀하 본인이 PCR 등 검사를 받고 그 결과를 기다리고 있나요? : N\n",
            "해당되는 것의 숫자를 입력해주세요.\n",
            "3. 귀하는 오늘(어제 저녁 포함) 신속항원검사(자가진단)을 실시했나요? 1. 검사하지 않음  2. 음성  3.양성1\n",
            "등교가 가능합니다. 하지만 다른 친구들을 위해 증상이 있는 경우 등교 전 신속항원검사를 꼭 실시해주세요.\n"
          ]
        }
      ],
      "source": [
        "#자가진단시스템 만들기\n",
        "#1)비밀번호 입력하기\n",
        "#2)맞는지 점검하기(틀리면 틀렸다고 말해주기)\n",
        "#3)로그인 후 질문 3가지(임상증상,신속항원검사,pcr검사)\n",
        "#4)모두 y인 경우 등교가능, 하나라도 n인 경우 등교중지\n",
        "\n",
        "import time\n",
        "\n",
        "my_passwd = '1234'\n",
        "\n",
        "print('코로나 19 자가진단을 실시해주세요') \n",
        "\n",
        "while True:\n",
        "  input_passwd = input('비밀번호를 입력해주세요 : ')\n",
        "  if input_passwd == my_passwd :\n",
        "    print('로그인에 성공하였습니다.')\n",
        "    break\n",
        "  else :\n",
        "    print('로그인에 실패하였습니다. 비밀번호를 확인해주세요') \n",
        "\n",
        "time. sleep(1) \n",
        "\n",
        "while True: \n",
        "  print('문장을 읽고 해당되면 Y, 아니라면 N으로 응답해주세요.')\n",
        "  input_q1 = input('1. 귀하는 현재 코로나19가 의심되는 발열, 기침 등의 임상증상이 있나요? : ')\n",
        "  if input_q1 == 'Y' : \n",
        "    print('등교가 불가능합니다.')\n",
        "    break\n",
        "  elif input_q1 == 'N' :\n",
        "    input_q2 = input('2. 귀하 본인이 PCR 등 검사를 받고 그 결과를 기다리고 있나요? : ')\n",
        "    time.sleep(1)\n",
        "    if input_q2 == 'Y' :\n",
        "      print('등교가 불가능합니다')\n",
        "      break\n",
        "    elif input_q2 == 'N' :\n",
        "      print('해당되는 것의 숫자를 입력해주세요.')\n",
        "      time.sleep(1)\n",
        "      input_q3 = input('3. 귀하는 오늘(어제 저녁 포함) 신속항원검사(자가진단)을 실시했나요? 1. 검사하지 않음  2. 음성  3.양성')\n",
        "      if input_q3 == '1' :\n",
        "        print('등교가 가능합니다. 하지만 다른 친구들을 위해 증상이 있는 경우 등교 전 신속항원검사를 꼭 실시해주세요.')\n",
        "        break\n",
        "      elif input_q3 == '2' :\n",
        "        print('등교가 가능합니다.')\n",
        "        break\n",
        "      elif input_q3 == '3' :\n",
        "        print('등교가 불가능합니다. 1주일 간 가정에서 휴식을 취해주세요.')\n",
        "        break"
      ]
    },
    {
      "cell_type": "code",
      "source": [],
      "metadata": {
        "id": "U48dtzV0YXfL"
      },
      "execution_count": null,
      "outputs": []
    }
  ]
}